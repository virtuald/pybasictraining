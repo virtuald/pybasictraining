{
 "cells": [
  {
   "cell_type": "markdown",
   "metadata": {},
   "source": [
    "# pybasictraining\n",
    "\n",
    "This is an interactive tool that you can use to learn Python. There are a number of challenges that you must complete. You complete each challenge by:\n",
    "\n",
    "* Selecting a challenge from the challenge list\n",
    "* Writing code to complete the challenge and inserting it into the cell below this one\n",
    "* Running the code by putting the cursor in the code cell and either:\n",
    "  * Hold `<CTRL>` and press `<ENTER>`\n",
    "  * From the menu above, select 'Cell' followed by 'Run Cells'\n",
    "\n",
    "Keep in mind that there are generally many different ways you can get\n",
    "the challenge tests to pass, but typically each test is a simple step that\n",
    "builds upon the knowledge gained in previous tests. You are encouraged\n",
    "to complete the tests in order. As you complete each challenge, do not delete previous code.\n",
    "\n",
    "Once you have completed all challenges, you can select 'all' and run the code to double-check that you have beat all the challenges.\n",
    "\n",
    "**IMPORTANT**: This environment does not allow you to save your work in the cloud, you will want to copy your code and save it somewhere, or you can click `File -> Download As -> Notebook` to download a copy that you can later upload back to this environment.\n",
    "\n",
    "Tips about failed tests:\n",
    "\n",
    "* A python comment starts with the `#` character, and comments in the test output tell you what the code is trying to test\n",
    "* When an error message refers to `module '__main__'`, it really means 'your code'\n",
    "\n",
    "Select a challenge from the list, and insert your code below."
   ]
  },
  {
   "cell_type": "code",
   "execution_count": null,
   "metadata": {
    "collapsed": false
   },
   "outputs": [],
   "source": [
    "# Insert your code in this cell, and hold <CTRL> and press <ENTER> to run the code\n",
    "\n"
   ]
  },
  {
   "cell_type": "code",
   "execution_count": null,
   "metadata": {
    "collapsed": false,
    "scrolled": false
   },
   "outputs": [],
   "source": [
    "# Hold <CTRL> and press <ENTER> to see the list of challenges\n",
    "import utils.nbcontroller; utils.nbcontroller.show()"
   ]
  }
 ],
 "metadata": {
  "kernelspec": {
   "display_name": "Python 3",
   "language": "python",
   "name": "python3"
  },
  "language_info": {
   "codemirror_mode": {
    "name": "ipython",
    "version": 3
   },
   "file_extension": ".py",
   "mimetype": "text/x-python",
   "name": "python",
   "nbconvert_exporter": "python",
   "pygments_lexer": "ipython3",
   "version": "3.5.1"
  }
 },
 "nbformat": 4,
 "nbformat_minor": 1
}
