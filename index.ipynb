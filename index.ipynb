{
 "cells": [
  {
   "cell_type": "markdown",
   "metadata": {},
   "source": [
    "# pybasictraining\n",
    "\n",
    "This is an interactive tool that you can use to learn Python. There are a number of challenges to complete, and you will learn more about Python as you go. Keep in mind that there are many different ways you can get the challenge tests to pass but, typically, each challenge is a simple step that builds upon the knowledge gained in prior challenges. You are encouraged to complete the challenges in order. As you complete each challenge, do not delete previous code. Once you have completed all challenges, you can select 'all' and run the code to double-check that you have beaten all the challenges.\n",
    "\n",
    "**Unfortunately, you can't save your work here**. This environment does not allow you to save your work in the cloud. Instead, you will want to copy your code and save it somewhere, or you can click `File -> Download As -> Notebook` to download a copy that you can later upload back to this environment.\n",
    "\n",
    "### Do this first!\n",
    "\n",
    "The list of challenges does not show up at first. To see the list of challenges, in the toolbar above click \"`Cell`\" and select \"`Run all`\". The challenge list will show up at the very bottom of the page.\n",
    "\n",
    "### To complete a challenge\n",
    "\n",
    "* Select a challenge from the challenge list (see above)\n",
    "* Write code to complete the challenge and insert it into the cell that says \"Insert your code into this cell\"\n",
    "* Run the code by putting the cursor in the code cell and then hold `<CTRL>` and press `<ENTER>`\n",
    "\n",
    "If the challenge passed, you will see a message saying \"`Challenge completed! :)`\". If not, here are some hints to help you complete the challenge:\n",
    "\n",
    "* If you see no output, you probably haven't selected a challenge. See above.\n",
    "* A python comment starts with the `#` character, and comments in the test output tell you what the code is trying to test\n",
    "* When an error message refers to `module '__main__'`, it really means 'your code'"
   ]
  },
  {
   "cell_type": "code",
   "execution_count": null,
   "metadata": {
    "collapsed": false
   },
   "outputs": [],
   "source": [
    "# Insert your code in this cell, and hold <CTRL> and press <ENTER> to run the code\n"
   ]
  },
  {
   "cell_type": "code",
   "execution_count": null,
   "metadata": {
    "collapsed": false,
    "scrolled": false
   },
   "outputs": [],
   "source": [
    "# Don't change the text in this cell\n",
    "import utils.nbcontroller; utils.nbcontroller.show()"
   ]
  }
 ],
 "metadata": {
  "kernelspec": {
   "display_name": "Python 3",
   "language": "python",
   "name": "python3"
  },
  "language_info": {
   "codemirror_mode": {
    "name": "ipython",
    "version": 3
   },
   "file_extension": ".py",
   "mimetype": "text/x-python",
   "name": "python",
   "nbconvert_exporter": "python",
   "pygments_lexer": "ipython3",
   "version": "3.5.1"
  }
 },
 "nbformat": 4,
 "nbformat_minor": 1
}
