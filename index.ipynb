{
 "cells": [
  {
   "cell_type": "markdown",
   "metadata": {},
   "source": [
    "# pybasictraining\n",
    "\n",
    "This is an interactive tool that you can use to learn Python. There are a number of challenges that you must complete. You complete each challenge by:\n",
    "\n",
    "* Selecting a challenge from the challenge list\n",
    "* Writing code to complete the challenge and inserting it into the cell below this one\n",
    "* Click \"Run XX\" to see if the tests pass\n",
    "\n",
    "Keep in mind that there are generally many different ways you can get\n",
    "the challenge tests to pass, but typically each test is a simple step that\n",
    "builds upon the knowledge gained in previous tests. You are encouraged\n",
    "to complete the tests in order. As you complete each challenge, do not delete previous code.\n",
    "\n",
    "Once you have completed all challenges, you can click \"Run all\" to double-check that you have beat all the challenges.\n",
    "\n",
    "**IMPORTANT**: This environment does not allow you to save your work in the cloud, you will want to copy your code and save it somewhere, or you can click `File -> Download As -> Notebook` to download a copy that you can later upload back to this environment.\n",
    "\n",
    "Select a challenge from the list, and insert your code below."
   ]
  },
  {
   "cell_type": "code",
   "execution_count": 3,
   "metadata": {
    "collapsed": false
   },
   "outputs": [],
   "source": [
    "# Insert your code here (and only here -- only the first cell will be tested!)\n"
   ]
  },
  {
   "cell_type": "code",
   "execution_count": 5,
   "metadata": {
    "collapsed": false,
    "scrolled": false
   },
   "outputs": [
    {
     "data": {
      "application/javascript": [
       "\n",
       "        \n",
       "        // this is a terrible hack, but it'll have to do for now\n",
       "       setTimeout(function() {\n",
       "           $('.widget-button').on('click', function(e) {\n",
       "           \n",
       "           var cells = IPython.notebook.get_cells();\n",
       "           var cell = null;\n",
       "           for (var i = 0; i < cells.length; i++) {\n",
       "               if (cells[i].cell_type == 'code') {\n",
       "                   cell = cells[i];\n",
       "                   break;\n",
       "               }\n",
       "           }\n",
       "           \n",
       "           console.log(\"Click\", cell);\n",
       "           \n",
       "           IPython.notebook.kernel.send_shell_message('comm_msg',\n",
       "           {'comm_id': '817b11aaa81640009ca5ad8d6ab1a67c',\n",
       "            'data': {\n",
       "                'method': 'custom', \n",
       "                'content': {\n",
       "                    'event': 'click', 'extra': 'extra'\n",
       "                 }\n",
       "               }\n",
       "           });\n",
       "       });\n",
       "   }, 500);\n",
       "        \n",
       "        "
      ],
      "text/plain": [
       "<IPython.core.display.Javascript object>"
      ]
     },
     "metadata": {},
     "output_type": "display_data"
    }
   ],
   "source": [
    "# In order to see the challenge list, select this cell and click the 'play' button above\n",
    "import utils.nbcontroller; utils.nbcontroller.show()"
   ]
  },
  {
   "cell_type": "code",
   "execution_count": null,
   "metadata": {
    "collapsed": true
   },
   "outputs": [],
   "source": []
  }
 ],
 "metadata": {
  "kernelspec": {
   "display_name": "Python 3",
   "language": "python",
   "name": "python3"
  },
  "language_info": {
   "codemirror_mode": {
    "name": "ipython",
    "version": 3
   },
   "file_extension": ".py",
   "mimetype": "text/x-python",
   "name": "python",
   "nbconvert_exporter": "python",
   "pygments_lexer": "ipython3",
   "version": "3.5.1"
  },
  "widgets": {
   "state": {
    "947c93a9c547426883a9ba26578c9a5a": {
     "views": [
      {
       "cell_index": 2
      }
     ]
    }
   },
   "version": "1.2.0"
  }
 },
 "nbformat": 4,
 "nbformat_minor": 1
}
